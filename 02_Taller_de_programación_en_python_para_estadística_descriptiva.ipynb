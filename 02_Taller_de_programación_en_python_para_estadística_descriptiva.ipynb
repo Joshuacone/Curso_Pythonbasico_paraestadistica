{
 "cells": [
  {
   "cell_type": "markdown",
   "id": "32da162a",
   "metadata": {},
   "source": [
    "# Taller de programación en Python para estadística descriptiva\n",
    "#### Elaborado por Joshua Martínez Domínguez\n",
    "#### 22/03/2025\n",
    "\n",
    "Este documento contiene los temas desarrollados del *Taller de programación en Python para estadística descriptiva* con ejemplos en celdas de código. Este notebook corresponde a la sesion 2\n",
    "\n",
    "## Tipos de datos y operadores\n",
    "\n",
    "A continuación se presentan los tipos de objetos y un ejemplo dentro de celda de código"
   ]
  },
  {
   "cell_type": "code",
   "execution_count": 1,
   "id": "d0de5c66",
   "metadata": {},
   "outputs": [
    {
     "data": {
      "text/plain": [
       "'esto es una cadena'"
      ]
     },
     "execution_count": 1,
     "metadata": {},
     "output_type": "execute_result"
    }
   ],
   "source": [
    "#Comenzamos por un objeto no escalar\n",
    "\"esto es una cadena\""
   ]
  },
  {
   "cell_type": "markdown",
   "id": "f0460996",
   "metadata": {},
   "source": [
    "Notemos que los objetos no escalares tienen una estructura interna y usualmente son texto en formato \"cadena\" o \"string\""
   ]
  },
  {
   "cell_type": "code",
   "execution_count": 2,
   "id": "ebdf4bcf",
   "metadata": {},
   "outputs": [
    {
     "name": "stdout",
     "output_type": "stream",
     "text": [
      "esto es una cadena\n"
     ]
    }
   ],
   "source": [
    "#se puede imprimir un fragmento de texto dentro del código\n",
    "print(\"esto es una cadena\")"
   ]
  },
  {
   "cell_type": "markdown",
   "id": "a1b49000",
   "metadata": {},
   "source": [
    "Una cadena es una secuencia de carácteres como letras, números, espacios y marcas de puntuación que se distinguen en Python porque va encerrada entre comillas simples o dobles.\n",
    "\n",
    "Las cadenas pueden usarse para representar información textual y también pueden almacenarse en objetos llamados variables."
   ]
  },
  {
   "cell_type": "code",
   "execution_count": 4,
   "id": "e6334b65",
   "metadata": {},
   "outputs": [
    {
     "data": {
      "text/plain": [
       "int"
      ]
     },
     "execution_count": 4,
     "metadata": {},
     "output_type": "execute_result"
    }
   ],
   "source": [
    "#Veamos un objeto escalar del tipo entero\n",
    "type(5)"
   ]
  },
  {
   "cell_type": "code",
   "execution_count": 5,
   "id": "87cb3250",
   "metadata": {},
   "outputs": [
    {
     "data": {
      "text/plain": [
       "float"
      ]
     },
     "execution_count": 5,
     "metadata": {},
     "output_type": "execute_result"
    }
   ],
   "source": [
    "#Veamos un objeto escalar del tipo float\n",
    "type(3.14)"
   ]
  },
  {
   "cell_type": "code",
   "execution_count": 7,
   "id": "ffdcb73d",
   "metadata": {},
   "outputs": [
    {
     "data": {
      "text/plain": [
       "bool"
      ]
     },
     "execution_count": 7,
     "metadata": {},
     "output_type": "execute_result"
    }
   ],
   "source": [
    "#Veamos un objeto escalar del tipo bool\n",
    "type(True)"
   ]
  },
  {
   "cell_type": "code",
   "execution_count": 8,
   "id": "faaf4b8e",
   "metadata": {},
   "outputs": [
    {
     "data": {
      "text/plain": [
       "NoneType"
      ]
     },
     "execution_count": 8,
     "metadata": {},
     "output_type": "execute_result"
    }
   ],
   "source": [
    "#Veamos un objeto escalar del tipo nmne\n",
    "type(None)"
   ]
  },
  {
   "cell_type": "markdown",
   "id": "1652d44d",
   "metadata": {},
   "source": [
    "Los objetos *int* y *float* pueden ser operados\n",
    "\n",
    "![Operadores](i2.01.png)"
   ]
  },
  {
   "cell_type": "code",
   "execution_count": 2,
   "id": "3c9f7801",
   "metadata": {},
   "outputs": [
    {
     "data": {
      "text/plain": [
       "7"
      ]
     },
     "execution_count": 2,
     "metadata": {},
     "output_type": "execute_result"
    }
   ],
   "source": [
    "#Veamos ejemplos\n",
    "2 + 5"
   ]
  },
  {
   "cell_type": "code",
   "execution_count": 3,
   "id": "83b21583",
   "metadata": {},
   "outputs": [
    {
     "data": {
      "text/plain": [
       "-3"
      ]
     },
     "execution_count": 3,
     "metadata": {},
     "output_type": "execute_result"
    }
   ],
   "source": [
    "2 - 5"
   ]
  },
  {
   "cell_type": "code",
   "execution_count": 4,
   "id": "e9cc1287",
   "metadata": {},
   "outputs": [
    {
     "data": {
      "text/plain": [
       "10"
      ]
     },
     "execution_count": 4,
     "metadata": {},
     "output_type": "execute_result"
    }
   ],
   "source": [
    "2 * 5"
   ]
  },
  {
   "cell_type": "code",
   "execution_count": 5,
   "id": "3ec65c63",
   "metadata": {},
   "outputs": [
    {
     "data": {
      "text/plain": [
       "2"
      ]
     },
     "execution_count": 5,
     "metadata": {},
     "output_type": "execute_result"
    }
   ],
   "source": [
    "5 // 2"
   ]
  },
  {
   "cell_type": "code",
   "execution_count": 6,
   "id": "91d3f133",
   "metadata": {},
   "outputs": [
    {
     "data": {
      "text/plain": [
       "2.5"
      ]
     },
     "execution_count": 6,
     "metadata": {},
     "output_type": "execute_result"
    }
   ],
   "source": [
    "5 / 2"
   ]
  },
  {
   "cell_type": "code",
   "execution_count": 7,
   "id": "8c50de3d",
   "metadata": {},
   "outputs": [
    {
     "data": {
      "text/plain": [
       "1"
      ]
     },
     "execution_count": 7,
     "metadata": {},
     "output_type": "execute_result"
    }
   ],
   "source": [
    "5 % 2"
   ]
  },
  {
   "cell_type": "code",
   "execution_count": 8,
   "id": "1cfa5fff",
   "metadata": {},
   "outputs": [
    {
     "data": {
      "text/plain": [
       "25"
      ]
     },
     "execution_count": 8,
     "metadata": {},
     "output_type": "execute_result"
    }
   ],
   "source": [
    "5 ** 2"
   ]
  },
  {
   "cell_type": "code",
   "execution_count": 9,
   "id": "0a27e85e",
   "metadata": {},
   "outputs": [
    {
     "data": {
      "text/plain": [
       "True"
      ]
     },
     "execution_count": 9,
     "metadata": {},
     "output_type": "execute_result"
    }
   ],
   "source": [
    "5 > 2"
   ]
  },
  {
   "cell_type": "markdown",
   "id": "0ea8fa3c",
   "metadata": {},
   "source": [
    "Los operadores lógicos son los aplicados a los objetos tipo *bool* y son tres: and, or y not. Sus resultados se pueden observar en las siguientes tablas de verdad\n",
    "\n",
    "![and](i2.02.png)\n",
    "\n",
    "![or](i2.03.png)\n",
    "\n",
    "![not](i2.04.png)"
   ]
  },
  {
   "cell_type": "code",
   "execution_count": 10,
   "id": "1801211f",
   "metadata": {},
   "outputs": [
    {
     "data": {
      "text/plain": [
       "True"
      ]
     },
     "execution_count": 10,
     "metadata": {},
     "output_type": "execute_result"
    }
   ],
   "source": [
    "#Veamos ejemplos\n",
    "True and True"
   ]
  },
  {
   "cell_type": "code",
   "execution_count": 11,
   "id": "7f0d12ca",
   "metadata": {},
   "outputs": [
    {
     "data": {
      "text/plain": [
       "False"
      ]
     },
     "execution_count": 11,
     "metadata": {},
     "output_type": "execute_result"
    }
   ],
   "source": [
    "True and False"
   ]
  },
  {
   "cell_type": "code",
   "execution_count": 12,
   "id": "6926e684",
   "metadata": {},
   "outputs": [
    {
     "data": {
      "text/plain": [
       "True"
      ]
     },
     "execution_count": 12,
     "metadata": {},
     "output_type": "execute_result"
    }
   ],
   "source": [
    "True or False"
   ]
  },
  {
   "cell_type": "code",
   "execution_count": 13,
   "id": "c77c565f",
   "metadata": {},
   "outputs": [
    {
     "data": {
      "text/plain": [
       "False"
      ]
     },
     "execution_count": 13,
     "metadata": {},
     "output_type": "execute_result"
    }
   ],
   "source": [
    "not True"
   ]
  },
  {
   "cell_type": "markdown",
   "id": "32b9a2f9",
   "metadata": {},
   "source": [
    "Es posible realizar combinaciones entre los operadores lógicos resultando en expresiones lógicas donde hay que considerar reglas de asociatividad y precedencia. Para esto es importante consederar todos los operadores de comparación cuyo resultado es un booleano.\n",
    "\n",
    "![comparacion](i2.05.png)"
   ]
  },
  {
   "cell_type": "code",
   "execution_count": 14,
   "id": "a13e96ce",
   "metadata": {},
   "outputs": [
    {
     "data": {
      "text/plain": [
       "False"
      ]
     },
     "execution_count": 14,
     "metadata": {},
     "output_type": "execute_result"
    }
   ],
   "source": [
    "#Veamos ejemplos\n",
    "2 == 3"
   ]
  },
  {
   "cell_type": "code",
   "execution_count": 15,
   "id": "ec4d34b9",
   "metadata": {},
   "outputs": [
    {
     "data": {
      "text/plain": [
       "True"
      ]
     },
     "execution_count": 15,
     "metadata": {},
     "output_type": "execute_result"
    }
   ],
   "source": [
    "2 == 2"
   ]
  },
  {
   "cell_type": "markdown",
   "id": "ba39b91e",
   "metadata": {},
   "source": [
    "## Variables y asignaciones\n",
    "\n",
    "Las variables brindan una forma de asociar nombres con objetos\n",
    "\n",
    "![variables](i2.06.png)\n",
    "\n",
    "Una variables en Python es solo un nombre, nada más.\n",
    "\n",
    "Para realizar la asignación correctamente, el nombre debe ir a la izquierda del signo $=$, y a la derecha el objeto denotado por la expresión."
   ]
  },
  {
   "cell_type": "code",
   "execution_count": 16,
   "id": "787d87af",
   "metadata": {},
   "outputs": [
    {
     "data": {
      "text/plain": [
       "11"
      ]
     },
     "execution_count": 16,
     "metadata": {},
     "output_type": "execute_result"
    }
   ],
   "source": [
    "#Veamos ejemplos\n",
    "a = 7\n",
    "b = 4\n",
    "\n",
    "a + b"
   ]
  },
  {
   "cell_type": "code",
   "execution_count": 17,
   "id": "65d719d3",
   "metadata": {},
   "outputs": [
    {
     "name": "stdout",
     "output_type": "stream",
     "text": [
      "53\n"
     ]
    }
   ],
   "source": [
    "c = a**2 + b\n",
    "print(c)"
   ]
  },
  {
   "cell_type": "markdown",
   "id": "dc239a36",
   "metadata": {},
   "source": [
    "## Programas ramificados: condicionales\n",
    "\n",
    "Hasta este momento lops programas ejecutan una instrucción después de otra en orden de aparicion, los cual es llamado programas en linea recta.\n",
    "\n",
    "Los programas ramificados se construyen con instrucciones condicionales.\n",
    "\n",
    "Una condicional tienes 3 partes:\n",
    "\n",
    "* Una prueba, es decir, una expresión que se evalua si es *True* o *False*\n",
    "\n",
    "* Un bloque de código que es ejecutado si el valor de verdad se cumple\n",
    "\n",
    "* Un bloque de código optimizado si el valor de verdad no se cumple\n",
    "\n",
    "![condicional](i2.07.png)"
   ]
  },
  {
   "cell_type": "code",
   "execution_count": 21,
   "id": "f90b5e66",
   "metadata": {},
   "outputs": [
    {
     "name": "stdout",
     "output_type": "stream",
     "text": [
      "par\n"
     ]
    }
   ],
   "source": [
    "#Veamos ejemplos\n",
    "x = 4\n",
    "if x % 2 == 0:\n",
    "    print (\"par\")\n",
    "else:\n",
    "    print (\"impar\")"
   ]
  },
  {
   "cell_type": "code",
   "execution_count": 22,
   "id": "333e2f18",
   "metadata": {},
   "outputs": [
    {
     "name": "stdout",
     "output_type": "stream",
     "text": [
      "impar\n"
     ]
    }
   ],
   "source": [
    "x = 5\n",
    "if x % 2 == 0:\n",
    "    print (\"par\")\n",
    "else:\n",
    "    print (\"impar\")"
   ]
  },
  {
   "cell_type": "markdown",
   "id": "4c61b0ba",
   "metadata": {},
   "source": [
    "La indentación es semánticamente significativa en Python. El bloque de código indentado estará asociado con la condicional previa, en lugar del bloque de código que siga la condicional"
   ]
  },
  {
   "cell_type": "code",
   "execution_count": 24,
   "id": "ef3d33b6",
   "metadata": {},
   "outputs": [
    {
     "name": "stdout",
     "output_type": "stream",
     "text": [
      "par\n",
      "Hecho con una condicional\n"
     ]
    }
   ],
   "source": [
    "#Veamos ejemplos\n",
    "x = 2\n",
    "if x % 2 == 0:\n",
    "    print (\"par\")\n",
    "else:\n",
    "    print (\"impar\")\n",
    "    \n",
    "print (\"Hecho con una condicional\")"
   ]
  },
  {
   "cell_type": "markdown",
   "id": "20119d3b",
   "metadata": {},
   "source": [
    "Python es inusual al usar la identación de esta manera. La mayoria de otros lenguajes de programación usan una especie de simbolos tipo corchete para delimitar los bloques de código. Por ejemplo en R se usan llaves { }.\n",
    "\n",
    "Cuando cualquiera a los bloques de código, ya sea el *False* o  el *True*, contienen otra condicional; se dice que la condicional está anidada."
   ]
  },
  {
   "cell_type": "code",
   "execution_count": 26,
   "id": "a85d7855",
   "metadata": {},
   "outputs": [
    {
     "name": "stdout",
     "output_type": "stream",
     "text": [
      "Divisible por 2 y 3\n"
     ]
    }
   ],
   "source": [
    "#Veamos ejemplos\n",
    "x = 6\n",
    "if x % 2 == 0:\n",
    "    if x % 3 == 0:\n",
    "        print(\"Divisible por 2 y 3\")\n",
    "    else:\n",
    "        print(\"Divisible por 2 y no por 3\")\n",
    "elif x % 3 == 0:\n",
    "    print(\"Divisible por 3 y no por 2\")"
   ]
  },
  {
   "cell_type": "markdown",
   "id": "c62f1847",
   "metadata": {},
   "source": [
    "elif en el código anterior significa *\"\"else if*"
   ]
  },
  {
   "cell_type": "markdown",
   "id": "2db12cf6",
   "metadata": {},
   "source": [
    "## Sobrecarga de operadores\n",
    "\n",
    "Los operadores pueden tener diferentes significados dependiendo del tipo de objetos al cual es aplicado."
   ]
  },
  {
   "cell_type": "code",
   "execution_count": 27,
   "id": "136329f8",
   "metadata": {},
   "outputs": [
    {
     "data": {
      "text/plain": [
       "5"
      ]
     },
     "execution_count": 27,
     "metadata": {},
     "output_type": "execute_result"
    }
   ],
   "source": [
    "#Veamos ejemplos\n",
    "2 + 3"
   ]
  },
  {
   "cell_type": "code",
   "execution_count": 28,
   "id": "f5e65bd0",
   "metadata": {},
   "outputs": [
    {
     "data": {
      "text/plain": [
       "'abcdef'"
      ]
     },
     "execution_count": 28,
     "metadata": {},
     "output_type": "execute_result"
    }
   ],
   "source": [
    "\"abc\" + \"def\""
   ]
  },
  {
   "cell_type": "markdown",
   "id": "22f5f075",
   "metadata": {},
   "source": [
    "El operador \"+\" esta sobrecargado. Cuando se tienen numeros se realiza una suma pero cuando se tienen cadenas se realiza una concatenación.\n",
    "\n",
    "Nota: **Una cadena no es un identificador de variable**"
   ]
  },
  {
   "cell_type": "markdown",
   "id": "5a8d614e",
   "metadata": {},
   "source": [
    "## Funciones predefinidas\n",
    "\n",
    "Python tambien proporciona funciones que podemos utilizar en las expresiones. Estas funciones se dice que estan *predefinidas*."
   ]
  },
  {
   "cell_type": "code",
   "execution_count": 29,
   "id": "e0773788",
   "metadata": {},
   "outputs": [
    {
     "data": {
      "text/plain": [
       "3"
      ]
     },
     "execution_count": 29,
     "metadata": {},
     "output_type": "execute_result"
    }
   ],
   "source": [
    "#Veamos ejemplos\n",
    "abs(-3)"
   ]
  },
  {
   "cell_type": "code",
   "execution_count": 30,
   "id": "930307af",
   "metadata": {},
   "outputs": [
    {
     "data": {
      "text/plain": [
       "3"
      ]
     },
     "execution_count": 30,
     "metadata": {},
     "output_type": "execute_result"
    }
   ],
   "source": [
    "abs(3)"
   ]
  },
  {
   "cell_type": "markdown",
   "id": "9c300386",
   "metadata": {},
   "source": [
    "Es posible identificar tipos de datos y tambien convertirlos a otros por medio de funciones predefinidas."
   ]
  },
  {
   "cell_type": "code",
   "execution_count": 31,
   "id": "0a33778b",
   "metadata": {},
   "outputs": [
    {
     "data": {
      "text/plain": [
       "int"
      ]
     },
     "execution_count": 31,
     "metadata": {},
     "output_type": "execute_result"
    }
   ],
   "source": [
    "#Veamos ejemplos\n",
    "a = 3\n",
    "type(a)"
   ]
  },
  {
   "cell_type": "code",
   "execution_count": 33,
   "id": "436e3cff",
   "metadata": {},
   "outputs": [
    {
     "data": {
      "text/plain": [
       "float"
      ]
     },
     "execution_count": 33,
     "metadata": {},
     "output_type": "execute_result"
    }
   ],
   "source": [
    "a = float(a)\n",
    "type(a)"
   ]
  },
  {
   "cell_type": "code",
   "execution_count": 34,
   "id": "db1ae403",
   "metadata": {},
   "outputs": [
    {
     "data": {
      "text/plain": [
       "str"
      ]
     },
     "execution_count": 34,
     "metadata": {},
     "output_type": "execute_result"
    }
   ],
   "source": [
    "a = str(a)\n",
    "type(a)"
   ]
  },
  {
   "cell_type": "markdown",
   "id": "e2fb6005",
   "metadata": {},
   "source": [
    "Las cadenas son un tipo de secuencia en Python. La funcion *len* puede ser aplicadas a ambas y nos dara el tamaño de la secuencia o de la cadena."
   ]
  },
  {
   "cell_type": "code",
   "execution_count": 35,
   "id": "9f43db85",
   "metadata": {},
   "outputs": [
    {
     "data": {
      "text/plain": [
       "6"
      ]
     },
     "execution_count": 35,
     "metadata": {},
     "output_type": "execute_result"
    }
   ],
   "source": [
    "#Veamos ejemplos\n",
    "len(\"conejo\")"
   ]
  },
  {
   "cell_type": "markdown",
   "id": "b3a2453f",
   "metadata": {},
   "source": [
    "La indexacion puede ser usada para extraer caracteres individuales en una cadena y tambien es aplicable en las secuencias."
   ]
  },
  {
   "cell_type": "code",
   "execution_count": 38,
   "id": "4faef501",
   "metadata": {},
   "outputs": [
    {
     "data": {
      "text/plain": [
       "'c'"
      ]
     },
     "execution_count": 38,
     "metadata": {},
     "output_type": "execute_result"
    }
   ],
   "source": [
    "#Veamos ejemplos\n",
    "\"conejo\"[0]"
   ]
  },
  {
   "cell_type": "code",
   "execution_count": 39,
   "id": "9724e20d",
   "metadata": {},
   "outputs": [
    {
     "data": {
      "text/plain": [
       "'o'"
      ]
     },
     "execution_count": 39,
     "metadata": {},
     "output_type": "execute_result"
    }
   ],
   "source": [
    "\"conejo\"[1]"
   ]
  },
  {
   "cell_type": "code",
   "execution_count": 40,
   "id": "e10eee36",
   "metadata": {},
   "outputs": [
    {
     "data": {
      "text/plain": [
       "'n'"
      ]
     },
     "execution_count": 40,
     "metadata": {},
     "output_type": "execute_result"
    }
   ],
   "source": [
    "\"conejo\"[2]"
   ]
  },
  {
   "cell_type": "markdown",
   "id": "34a26d85",
   "metadata": {},
   "source": [
    "Python tiene una función que permite ingresar datos directamente del usuario. La función *input* toma una cadena como argumento."
   ]
  },
  {
   "cell_type": "code",
   "execution_count": 42,
   "id": "b77115ff",
   "metadata": {},
   "outputs": [
    {
     "name": "stdout",
     "output_type": "stream",
     "text": [
      "Escribe tu nombre: Josh\n"
     ]
    }
   ],
   "source": [
    "#Veamos ejemplos\n",
    "a = input(\"Escribe tu nombre: \")"
   ]
  },
  {
   "cell_type": "code",
   "execution_count": 43,
   "id": "91ee75af",
   "metadata": {},
   "outputs": [
    {
     "data": {
      "text/plain": [
       "str"
      ]
     },
     "execution_count": 43,
     "metadata": {},
     "output_type": "execute_result"
    }
   ],
   "source": [
    "type(a)"
   ]
  },
  {
   "cell_type": "code",
   "execution_count": 44,
   "id": "eeda0125",
   "metadata": {},
   "outputs": [
    {
     "name": "stdout",
     "output_type": "stream",
     "text": [
      "Escribe tu edad en años cumplidos: 31\n"
     ]
    }
   ],
   "source": [
    "b = input(\"Escribe tu edad en años cumplidos: \")"
   ]
  },
  {
   "cell_type": "code",
   "execution_count": 45,
   "id": "5dfa51a5",
   "metadata": {},
   "outputs": [
    {
     "data": {
      "text/plain": [
       "str"
      ]
     },
     "execution_count": 45,
     "metadata": {},
     "output_type": "execute_result"
    }
   ],
   "source": [
    "type(b)"
   ]
  },
  {
   "cell_type": "markdown",
   "id": "87e40f9b",
   "metadata": {},
   "source": [
    "## Funciones definidas en módulos\n",
    "\n",
    "Python proporciona funciones que no estan directamente disponibles al iniciar una sesion.\n",
    "\n",
    "Un módulo es un fichero conteniendo definiciones y declaraciones de Python. El nombre de archivo es el nombre del módulo con el sufijo .py agregado.\n",
    "\n",
    "Un módulo puede contener tanto declaraciones ejecutables como definiciones de funciones. Estas declaraciones están pensadas para inicializar el módulo. Se ejecutan únicamente la primera vez que el módulo se encuentra en una declaración import. (También se ejecutan si el archivo se ejecuta como script.)\n"
   ]
  },
  {
   "cell_type": "code",
   "execution_count": 49,
   "id": "c5fbcaa7",
   "metadata": {},
   "outputs": [],
   "source": [
    "#Veamos ejemplos\n",
    "import math as math"
   ]
  },
  {
   "cell_type": "code",
   "execution_count": 52,
   "id": "5baaa9ff",
   "metadata": {},
   "outputs": [
    {
     "data": {
      "text/plain": [
       "3.141592653589793"
      ]
     },
     "execution_count": 52,
     "metadata": {},
     "output_type": "execute_result"
    }
   ],
   "source": [
    "math.pi"
   ]
  },
  {
   "cell_type": "code",
   "execution_count": 55,
   "id": "06da8f3b",
   "metadata": {},
   "outputs": [
    {
     "data": {
      "text/plain": [
       "0.0"
      ]
     },
     "execution_count": 55,
     "metadata": {},
     "output_type": "execute_result"
    }
   ],
   "source": [
    "math.sin(0)"
   ]
  },
  {
   "cell_type": "markdown",
   "id": "e4a09dc7",
   "metadata": {},
   "source": [
    "`pip` es el programa de instalación preferido. Desde Python 3.4 viene incluido por defecto con los instaladores binarios de Python.\n",
    "\n",
    "El Índice de Paquetes de Python es un repositorio público de paquetes bajo licencias de código abierto disponibles para otros usuarios de Python.\n",
    "\n",
    "El siguiente comando instalará la última versión de un módulo y sus dependencias desde el Índice de Paquetes de Python:\n",
    "\n",
    "```\n",
    "python -m pip install SomePackage\n",
    "```"
   ]
  },
  {
   "cell_type": "markdown",
   "id": "83ec4e93",
   "metadata": {},
   "source": [
    "## Definición de funciones\n",
    "\n",
    "Podemos definir y utilizar nuestras propias funciones en Python.\n",
    "\n",
    "Las funciones se pueden definir y llamar, devolviendo algun valor. Pero tambien existen funciones que no devuelven valores llamadas *procedimientos*"
   ]
  },
  {
   "cell_type": "code",
   "execution_count": 56,
   "id": "118192a9",
   "metadata": {},
   "outputs": [],
   "source": [
    "#Veamos ejemplos\n",
    "def cuadrado(x):\n",
    "    return x ** 2"
   ]
  },
  {
   "cell_type": "markdown",
   "id": "cf998ad2",
   "metadata": {},
   "source": [
    "Acabamos de definir la función *cuadrado* que se aplica sobre un valor al que llamamos *x* y devuelve un número: el resultado de elevar *x* al cuadrado"
   ]
  },
  {
   "cell_type": "code",
   "execution_count": 57,
   "id": "42b554d7",
   "metadata": {},
   "outputs": [
    {
     "name": "stdout",
     "output_type": "stream",
     "text": [
      "4\n"
     ]
    }
   ],
   "source": [
    "print(cuadrado(2))"
   ]
  },
  {
   "cell_type": "code",
   "execution_count": 58,
   "id": "609e2c71",
   "metadata": {},
   "outputs": [
    {
     "data": {
      "text/plain": [
       "16"
      ]
     },
     "execution_count": 58,
     "metadata": {},
     "output_type": "execute_result"
    }
   ],
   "source": [
    "cuadrado(4)"
   ]
  },
  {
   "cell_type": "markdown",
   "id": "49ec4f8a",
   "metadata": {},
   "source": [
    "No todas las funciones tienen un solo parámetro. Vamos a definir ahora una con dos parámetros."
   ]
  },
  {
   "cell_type": "code",
   "execution_count": 59,
   "id": "6b84880b",
   "metadata": {},
   "outputs": [],
   "source": [
    "def area_rectangulo(base, altura):\n",
    "    return altura * base"
   ]
  },
  {
   "cell_type": "markdown",
   "id": "a15d3e76",
   "metadata": {},
   "source": [
    "Observa que los diferentes parámetros de una función deben separarse por comas."
   ]
  },
  {
   "cell_type": "code",
   "execution_count": 60,
   "id": "bd7ff646",
   "metadata": {},
   "outputs": [
    {
     "data": {
      "text/plain": [
       "15"
      ]
     },
     "execution_count": 60,
     "metadata": {},
     "output_type": "execute_result"
    }
   ],
   "source": [
    "area_rectangulo(3, 5)"
   ]
  },
  {
   "cell_type": "markdown",
   "id": "7ed26efa",
   "metadata": {},
   "source": [
    "## Iteraciones\n",
    "\n",
    "Las iteraciones son mecanismos cíclicos que incluyen una prueba con un valor lógico, al igual que las condicionales. Si la prueba evalua *True*, el programa ejecuta el cuerpo del ciclo una vez y vuelve a reevaluar la prueba. Este proceso es repetido hasta que la prueba valore *False*, entonces ejecutará el código que sigue del enunciado de iteración.\n",
    "\n",
    "![iteración](i2.08.png)\n"
   ]
  },
  {
   "cell_type": "markdown",
   "id": "b435fb56",
   "metadata": {},
   "source": [
    "Python permite indicar que deseamos que se repita un trozo de programa de dos formas distintas: mediante la sentencia `while` y mediante la sentencia `for`.\n",
    "\n",
    "La sentencia `while` es mas general y significa \"*Mientras se cumpla esta condición, repite estas acciones*\".\n",
    "\n",
    "![while](i2.09.png)\n",
    "\n",
    "Las sentencias que denotan repetición se denominan *bucles*"
   ]
  },
  {
   "cell_type": "code",
   "execution_count": 61,
   "id": "60fe16fd",
   "metadata": {},
   "outputs": [
    {
     "name": "stdout",
     "output_type": "stream",
     "text": [
      "1\n",
      "2\n",
      "3\n",
      "4\n",
      "5\n",
      "Termine\n"
     ]
    }
   ],
   "source": [
    "#Veamos ejemplos\n",
    "x = 0\n",
    "while x < 5:\n",
    "    x = x + 1\n",
    "    print(x)\n",
    "print(\"Termine\")"
   ]
  },
  {
   "cell_type": "markdown",
   "id": "65c98859",
   "metadata": {},
   "source": [
    "Los bucles son muy útiles a la hora de confeccionar programas, pero también son peligrosos si no andas con cuidado es posible que no finalicen nunca.\n",
    "\n",
    "![while_siempre](i2.10.png)\n",
    "\n",
    "Hay otro tipo de bucle en Python, el bucle `for-in` que se puede leer \"*Para todo elemento de una serie, hacer ...*\".\n",
    "\n",
    "![for](i2.11.png)"
   ]
  },
  {
   "cell_type": "code",
   "execution_count": 62,
   "id": "6c228f0a",
   "metadata": {},
   "outputs": [
    {
     "name": "stdout",
     "output_type": "stream",
     "text": [
      "c\n",
      "o\n",
      "n\n",
      "e\n",
      "j\n",
      "o\n",
      "Termine\n"
     ]
    }
   ],
   "source": [
    "#Veamos ejemplos\n",
    "for letra in \"conejo\":\n",
    "    print(letra)\n",
    "print(\"Termine\")"
   ]
  },
  {
   "cell_type": "markdown",
   "id": "c6d13b93",
   "metadata": {},
   "source": [
    "la función *range* es una función prefefinida que usa dos argumentos: un valor inicial y un final y devuelve un nuevo tipo de dato, una lista con todos los elementos enteros comprendidos entre los argumentos."
   ]
  },
  {
   "cell_type": "code",
   "execution_count": 65,
   "id": "7e8abc22",
   "metadata": {},
   "outputs": [
    {
     "name": "stdout",
     "output_type": "stream",
     "text": [
      "range(-3, 3)\n"
     ]
    }
   ],
   "source": [
    "#Veamos ejemplos\n",
    "print(range(-3, 3))"
   ]
  },
  {
   "cell_type": "code",
   "execution_count": 67,
   "id": "b0875f65",
   "metadata": {},
   "outputs": [
    {
     "name": "stdout",
     "output_type": "stream",
     "text": [
      "-3\n",
      "-2\n",
      "-1\n",
      "0\n",
      "1\n",
      "2\n"
     ]
    }
   ],
   "source": [
    "for i in range(-3, 3):\n",
    "    print(i)"
   ]
  },
  {
   "cell_type": "markdown",
   "id": "6e60ce7a",
   "metadata": {},
   "source": [
    "Ejercicio 2: \n",
    "\n",
    "Realice un programa que clasifique el estado de una persona de acuerdo a su IMC, solicitandole su peso y talla.\n",
    "\n",
    "Investigue que es una función recursiva y describa un ejemplo."
   ]
  },
  {
   "cell_type": "markdown",
   "id": "02a5d00e",
   "metadata": {},
   "source": [
    "## Referencias\n",
    "\n",
    "Guttag J. (2013). Introduction to Computation and Programming Using Python (Spring 2013 Edition). MIT Press.\n",
    "\n",
    "Marzal A. (2003). Introducción a la programación con Python. Universitat Jaume I\n",
    "\n",
    "https://docs.python.org/es/3.13/tutorial/modules.html\n",
    "\n",
    "https://docs.python.org/es/3.13/installing/index.html"
   ]
  },
  {
   "cell_type": "code",
   "execution_count": 6,
   "id": "d8a21b5c",
   "metadata": {},
   "outputs": [
    {
     "name": "stdout",
     "output_type": "stream",
     "text": [
      "Requirement already satisfied: nbconvert in c:\\users\\josh_\\anaconda3\\lib\\site-packages (6.0.7)\n",
      "Requirement already satisfied: defusedxml in c:\\users\\josh_\\anaconda3\\lib\\site-packages (from nbconvert) (0.7.1)\n",
      "Requirement already satisfied: jinja2>=2.4 in c:\\users\\josh_\\anaconda3\\lib\\site-packages (from nbconvert) (2.11.3)\n",
      "Requirement already satisfied: nbformat>=4.4 in c:\\users\\josh_\\anaconda3\\lib\\site-packages (from nbconvert) (5.1.3)\n",
      "Requirement already satisfied: pygments>=2.4.1 in c:\\users\\josh_\\anaconda3\\lib\\site-packages (from nbconvert) (2.8.1)\n",
      "Requirement already satisfied: testpath in c:\\users\\josh_\\anaconda3\\lib\\site-packages (from nbconvert) (0.4.4)\n",
      "Requirement already satisfied: bleach in c:\\users\\josh_\\anaconda3\\lib\\site-packages (from nbconvert) (3.3.0)\n",
      "Requirement already satisfied: jupyterlab-pygments in c:\\users\\josh_\\anaconda3\\lib\\site-packages (from nbconvert) (0.1.2)\n",
      "Requirement already satisfied: pandocfilters>=1.4.1 in c:\\users\\josh_\\anaconda3\\lib\\site-packages (from nbconvert) (1.4.3)\n",
      "Requirement already satisfied: traitlets>=4.2 in c:\\users\\josh_\\anaconda3\\lib\\site-packages (from nbconvert) (5.0.5)\n",
      "Requirement already satisfied: jupyter-core in c:\\users\\josh_\\anaconda3\\lib\\site-packages (from nbconvert) (4.7.1)\n",
      "Requirement already satisfied: entrypoints>=0.2.2 in c:\\users\\josh_\\anaconda3\\lib\\site-packages (from nbconvert) (0.3)\n",
      "Requirement already satisfied: mistune<2,>=0.8.1 in c:\\users\\josh_\\anaconda3\\lib\\site-packages (from nbconvert) (0.8.4)\n",
      "Requirement already satisfied: nbclient<0.6.0,>=0.5.0 in c:\\users\\josh_\\anaconda3\\lib\\site-packages (from nbconvert) (0.5.3)\n",
      "Requirement already satisfied: MarkupSafe>=0.23 in c:\\users\\josh_\\anaconda3\\lib\\site-packages (from jinja2>=2.4->nbconvert) (1.1.1)\n",
      "Requirement already satisfied: nest-asyncio in c:\\users\\josh_\\anaconda3\\lib\\site-packages (from nbclient<0.6.0,>=0.5.0->nbconvert) (1.5.1)\n",
      "Requirement already satisfied: jupyter-client>=6.1.5 in c:\\users\\josh_\\anaconda3\\lib\\site-packages (from nbclient<0.6.0,>=0.5.0->nbconvert) (6.1.12)\n",
      "Requirement already satisfied: async-generator in c:\\users\\josh_\\anaconda3\\lib\\site-packages (from nbclient<0.6.0,>=0.5.0->nbconvert) (1.10)\n",
      "Requirement already satisfied: python-dateutil>=2.1 in c:\\users\\josh_\\anaconda3\\lib\\site-packages (from jupyter-client>=6.1.5->nbclient<0.6.0,>=0.5.0->nbconvert) (2.8.1)\n",
      "Requirement already satisfied: pyzmq>=13 in c:\\users\\josh_\\anaconda3\\lib\\site-packages (from jupyter-client>=6.1.5->nbclient<0.6.0,>=0.5.0->nbconvert) (20.0.0)\n",
      "Requirement already satisfied: tornado>=4.1 in c:\\users\\josh_\\anaconda3\\lib\\site-packages (from jupyter-client>=6.1.5->nbclient<0.6.0,>=0.5.0->nbconvert) (6.1)\n",
      "Requirement already satisfied: pywin32>=1.0 in c:\\users\\josh_\\anaconda3\\lib\\site-packages (from jupyter-core->nbconvert) (227)\n",
      "Requirement already satisfied: ipython-genutils in c:\\users\\josh_\\anaconda3\\lib\\site-packages (from nbformat>=4.4->nbconvert) (0.2.0)\n",
      "Requirement already satisfied: jsonschema!=2.5.0,>=2.4 in c:\\users\\josh_\\anaconda3\\lib\\site-packages (from nbformat>=4.4->nbconvert) (3.2.0)\n",
      "Requirement already satisfied: setuptools in c:\\users\\josh_\\anaconda3\\lib\\site-packages (from jsonschema!=2.5.0,>=2.4->nbformat>=4.4->nbconvert) (52.0.0.post20210125)\n",
      "Requirement already satisfied: six>=1.11.0 in c:\\users\\josh_\\anaconda3\\lib\\site-packages (from jsonschema!=2.5.0,>=2.4->nbformat>=4.4->nbconvert) (1.15.0)\n",
      "Requirement already satisfied: pyrsistent>=0.14.0 in c:\\users\\josh_\\anaconda3\\lib\\site-packages (from jsonschema!=2.5.0,>=2.4->nbformat>=4.4->nbconvert) (0.17.3)\n",
      "Requirement already satisfied: attrs>=17.4.0 in c:\\users\\josh_\\anaconda3\\lib\\site-packages (from jsonschema!=2.5.0,>=2.4->nbformat>=4.4->nbconvert) (20.3.0)\n",
      "Requirement already satisfied: packaging in c:\\users\\josh_\\anaconda3\\lib\\site-packages (from bleach->nbconvert) (20.9)\n",
      "Requirement already satisfied: webencodings in c:\\users\\josh_\\anaconda3\\lib\\site-packages (from bleach->nbconvert) (0.5.1)\n",
      "Requirement already satisfied: pyparsing>=2.0.2 in c:\\users\\josh_\\anaconda3\\lib\\site-packages (from packaging->bleach->nbconvert) (2.4.7)\n",
      "Note: you may need to restart the kernel to use updated packages.\n"
     ]
    }
   ],
   "source": [
    "pip install nbconvert"
   ]
  },
  {
   "cell_type": "code",
   "execution_count": 10,
   "id": "02ad4433",
   "metadata": {},
   "outputs": [
    {
     "name": "stderr",
     "output_type": "stream",
     "text": [
      "[NbConvertApp] Converting notebook 02_Taller_de_programación_en_python_para_estadística_descriptiva.ipynb to webpdf\n",
      "[NbConvertApp] Building PDF\n",
      "[W:pyppeteer.chromium_downloader] start chromium download.\n",
      "Download may take a few minutes.\n",
      "\n",
      "  0%|          | 0/136913619 [00:00<?, ?it/s]\n",
      "  0%|          | 368640/136913619 [00:00<00:39, 3483779.03it/s]\n",
      "  1%|1         | 1556480/136913619 [00:00<00:16, 8223739.40it/s]\n",
      "  2%|2         | 2877440/136913619 [00:00<00:12, 10423018.46it/s]\n",
      "  3%|3         | 4116480/136913619 [00:00<00:12, 10809967.84it/s]\n",
      "  4%|3         | 5232640/136913619 [00:00<00:12, 10808380.63it/s]\n",
      "  5%|4         | 6522880/136913619 [00:00<00:11, 11490354.05it/s]\n",
      "  6%|5         | 7680000/136913619 [00:00<00:12, 10694863.83it/s]\n",
      "  6%|6         | 8867840/136913619 [00:00<00:11, 10967674.59it/s]\n",
      "  7%|7         | 10127360/136913619 [00:00<00:11, 11416846.08it/s]\n",
      "  8%|8         | 11356160/136913619 [00:01<00:10, 11551146.27it/s]\n",
      "  9%|9         | 12666880/136913619 [00:01<00:10, 11908757.64it/s]\n",
      " 10%|#         | 13864960/136913619 [00:01<00:10, 11755150.94it/s]\n",
      " 11%|#1        | 15257600/136913619 [00:01<00:09, 12392530.17it/s]\n",
      " 12%|#2        | 16721920/136913619 [00:01<00:09, 12997781.75it/s]\n",
      " 13%|#3        | 18114560/136913619 [00:01<00:08, 13215011.88it/s]\n",
      " 14%|#4        | 19445760/136913619 [00:01<00:09, 12847780.92it/s]\n",
      " 15%|#5        | 20736000/136913619 [00:01<00:09, 12449693.08it/s]\n",
      " 16%|#6        | 21985280/136913619 [00:01<00:09, 12061299.00it/s]\n",
      " 17%|#6        | 23203840/136913619 [00:02<00:10, 11118365.73it/s]\n",
      " 18%|#7        | 24422400/136913619 [00:02<00:09, 11378702.60it/s]\n",
      " 19%|#8        | 25579520/136913619 [00:02<00:10, 10940591.75it/s]\n",
      " 19%|#9        | 26685440/136913619 [00:02<00:13, 8131715.85it/s] \n",
      " 20%|##        | 27842560/136913619 [00:02<00:12, 8861446.10it/s]\n",
      " 21%|##1       | 28825600/136913619 [00:03<00:22, 4859689.91it/s]\n",
      " 22%|##2       | 30248960/136913619 [00:03<00:16, 6306669.93it/s]\n",
      " 23%|##2       | 31477760/136913619 [00:03<00:14, 7377918.90it/s]\n",
      " 24%|##3       | 32593920/136913619 [00:03<00:12, 8152585.47it/s]\n",
      " 25%|##4       | 33761280/136913619 [00:03<00:11, 8917786.23it/s]\n",
      " 26%|##5       | 35328000/136913619 [00:03<00:09, 10531628.18it/s]\n",
      " 27%|##6       | 36874240/136913619 [00:03<00:08, 11770954.62it/s]\n",
      " 28%|##8       | 38440960/136913619 [00:03<00:07, 12785387.86it/s]\n",
      " 29%|##9       | 39997440/136913619 [00:03<00:07, 13553846.49it/s]\n",
      " 30%|###       | 41441280/136913619 [00:03<00:06, 13723708.03it/s]\n",
      " 31%|###1      | 42874880/136913619 [00:04<00:06, 13821048.30it/s]\n",
      " 32%|###2      | 44298240/136913619 [00:04<00:07, 13006681.51it/s]\n",
      " 33%|###3      | 45639680/136913619 [00:04<00:06, 13083886.89it/s]\n",
      " 34%|###4      | 47042560/136913619 [00:04<00:06, 13306853.19it/s]\n",
      " 36%|###5      | 48650240/136913619 [00:04<00:06, 14009608.73it/s]\n",
      " 37%|###6      | 50104320/136913619 [00:04<00:06, 14122710.48it/s]\n",
      " 38%|###7      | 51537920/136913619 [00:04<00:06, 13706541.06it/s]\n",
      " 39%|###8      | 52940800/136913619 [00:04<00:06, 13661734.17it/s]\n",
      " 40%|###9      | 54528000/136913619 [00:04<00:05, 14295841.60it/s]\n",
      " 41%|####      | 55971840/136913619 [00:04<00:05, 14031916.66it/s]\n",
      " 42%|####1     | 57487360/136913619 [00:05<00:05, 14357043.80it/s]\n",
      " 43%|####3     | 58951680/136913619 [00:05<00:05, 14439619.81it/s]\n",
      " 44%|####4     | 60405760/136913619 [00:05<00:05, 13334093.84it/s]\n",
      " 45%|####5     | 61890560/136913619 [00:05<00:05, 13527752.48it/s]\n",
      " 46%|####6     | 63262720/136913619 [00:05<00:05, 13560050.40it/s]\n",
      " 47%|####7     | 64634880/136913619 [00:05<00:05, 12665395.41it/s]\n",
      " 48%|####8     | 65925120/136913619 [00:05<00:06, 11463158.81it/s]\n",
      " 49%|####9     | 67102720/136913619 [00:05<00:06, 10624572.98it/s]\n",
      " 50%|####9     | 68198400/136913619 [00:06<00:06, 10498599.13it/s]\n",
      " 51%|#####     | 69427200/136913619 [00:06<00:06, 10965352.36it/s]\n",
      " 52%|#####1    | 70881280/136913619 [00:06<00:05, 11917085.35it/s]\n",
      " 53%|#####2    | 72243200/136913619 [00:06<00:05, 12356622.65it/s]\n",
      " 54%|#####3    | 73553920/136913619 [00:06<00:05, 12532631.81it/s]\n",
      " 55%|#####4    | 74823680/136913619 [00:06<00:04, 12461498.25it/s]\n",
      " 56%|#####5    | 76226560/136913619 [00:06<00:04, 12739872.93it/s]\n",
      " 57%|#####6    | 77516800/136913619 [00:06<00:04, 12279994.92it/s]\n",
      " 58%|#####7    | 78755840/136913619 [00:06<00:04, 12240031.80it/s]\n",
      " 58%|#####8    | 80056320/136913619 [00:06<00:04, 12459304.60it/s]\n",
      " 59%|#####9    | 81315840/136913619 [00:07<00:04, 12249531.68it/s]\n",
      " 60%|######    | 82698240/136913619 [00:07<00:04, 12699546.88it/s]\n",
      " 61%|######1   | 84039680/136913619 [00:07<00:04, 12877262.90it/s]\n",
      " 62%|######2   | 85340160/136913619 [00:07<00:04, 12299775.08it/s]\n",
      " 63%|######3   | 86661120/136913619 [00:07<00:04, 12453033.84it/s]\n",
      " 64%|######4   | 88053760/136913619 [00:07<00:03, 12709366.18it/s]\n",
      " 65%|######5   | 89333760/136913619 [00:07<00:03, 12074367.82it/s]\n",
      " 66%|######6   | 90552320/136913619 [00:07<00:03, 11776636.19it/s]\n",
      " 67%|######7   | 91770880/136913619 [00:07<00:03, 11851310.70it/s]\n",
      " 68%|######7   | 93030400/136913619 [00:08<00:03, 11990024.13it/s]\n",
      " 69%|######8   | 94341120/136913619 [00:08<00:03, 11947954.85it/s]\n",
      " 70%|######9   | 95539200/136913619 [00:08<00:03, 11053072.97it/s]\n",
      " 71%|#######   | 96870400/136913619 [00:08<00:03, 11609700.15it/s]\n",
      " 72%|#######1  | 98129920/136913619 [00:08<00:03, 11852686.74it/s]\n",
      " 73%|#######2  | 99328000/136913619 [00:08<00:04, 9257848.17it/s] \n",
      " 73%|#######3  | 100352000/136913619 [00:08<00:04, 9071031.32it/s]\n",
      " 74%|#######4  | 101652480/136913619 [00:08<00:03, 9945478.33it/s]\n",
      " 75%|#######5  | 102942720/136913619 [00:08<00:03, 10669703.31it/s]\n",
      " 76%|#######6  | 104386560/136913619 [00:09<00:02, 11618844.68it/s]\n",
      " 77%|#######7  | 105605120/136913619 [00:09<00:02, 11685298.85it/s]\n",
      " 78%|#######8  | 107038720/136913619 [00:09<00:02, 12391087.18it/s]\n",
      " 79%|#######9  | 108308480/136913619 [00:09<00:02, 12236320.68it/s]\n",
      " 80%|########  | 109762560/136913619 [00:09<00:02, 12861363.95it/s]\n",
      " 81%|########1 | 111216640/136913619 [00:09<00:01, 13291032.73it/s]\n",
      " 82%|########2 | 112558080/136913619 [00:09<00:01, 13288179.25it/s]\n",
      " 83%|########3 | 114053120/136913619 [00:09<00:01, 13695353.86it/s]\n",
      " 84%|########4 | 115435520/136913619 [00:09<00:01, 13342048.32it/s]\n",
      " 85%|########5 | 116807680/136913619 [00:10<00:01, 13396583.04it/s]\n",
      " 86%|########6 | 118159360/136913619 [00:10<00:01, 13099320.68it/s]\n",
      " 87%|########7 | 119562240/136913619 [00:10<00:01, 13275239.76it/s]\n",
      " 88%|########8 | 120893440/136913619 [00:10<00:01, 13227391.83it/s]\n",
      " 89%|########9 | 122224640/136913619 [00:10<00:01, 13113344.10it/s]\n",
      " 90%|######### | 123545600/136913619 [00:10<00:01, 12980921.34it/s]\n",
      " 91%|#########1| 124846080/136913619 [00:10<00:00, 12966219.45it/s]\n",
      " 92%|#########2| 126146560/136913619 [00:10<00:01, 8709896.69it/s] \n",
      " 93%|#########3| 127375360/136913619 [00:11<00:01, 9495031.60it/s]\n",
      " 94%|#########4| 128798720/136913619 [00:11<00:00, 10602668.77it/s]\n",
      " 95%|#########5| 130252800/136913619 [00:11<00:00, 11562834.68it/s]\n",
      " 96%|#########6| 131522560/136913619 [00:11<00:00, 11827297.12it/s]\n",
      " 97%|#########7| 132925440/136913619 [00:11<00:00, 12382154.24it/s]\n",
      " 98%|#########8| 134236160/136913619 [00:11<00:00, 12458211.23it/s]\n",
      " 99%|#########9| 135587840/136913619 [00:11<00:00, 12678012.41it/s]\n",
      "100%|#########9| 136908800/136913619 [00:11<00:00, 12470943.09it/s]\n",
      "100%|##########| 136913619/136913619 [00:11<00:00, 11663717.38it/s]\n",
      "[W:pyppeteer.chromium_downloader] \n",
      "chromium download done.\n",
      "[W:pyppeteer.chromium_downloader] chromium extracted to: C:\\Users\\josh_\\AppData\\Local\\pyppeteer\\pyppeteer\\local-chromium\\588429\n",
      "[NbConvertApp] PDF successfully created\n",
      "[NbConvertApp] Writing 275380 bytes to 02_Taller_de_programación_en_python_para_estadística_descriptiva.pdf\n"
     ]
    }
   ],
   "source": [
    "!jupyter nbconvert --to webpdf --allow-chromium-download 02_Taller_de_programación_en_python_para_estadística_descriptiva.ipynb"
   ]
  },
  {
   "cell_type": "code",
   "execution_count": null,
   "id": "bbd12125",
   "metadata": {},
   "outputs": [],
   "source": []
  }
 ],
 "metadata": {
  "kernelspec": {
   "display_name": "Python 3",
   "language": "python",
   "name": "python3"
  },
  "language_info": {
   "codemirror_mode": {
    "name": "ipython",
    "version": 3
   },
   "file_extension": ".py",
   "mimetype": "text/x-python",
   "name": "python",
   "nbconvert_exporter": "python",
   "pygments_lexer": "ipython3",
   "version": "3.8.8"
  }
 },
 "nbformat": 4,
 "nbformat_minor": 5
}
