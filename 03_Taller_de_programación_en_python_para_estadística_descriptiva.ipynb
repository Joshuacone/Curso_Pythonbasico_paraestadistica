{
 "cells": [
  {
   "cell_type": "markdown",
   "id": "cc054544",
   "metadata": {},
   "source": [
    "# Taller de programación en Python para estadística descriptiva\n",
    "#### Elaborado por Joshua Martínez Domínguez\n",
    "#### 22/03/2025\n",
    "\n",
    "Este documento contiene los temas desarrollados del *Taller de programación en Python para estadística descriptiva* con ejemplos en celdas de código. Este notebook corresponde a la sesion 3\n",
    "\n",
    "## Tipos estructurados: Tuplas, Listas y Matrices\n",
    "\n",
    "Similar a las cadenas o *strings*, las tuplas son secuencias de elementos ordenados. La diferencia es que los elementos de una *tupla* no necesitan ser carácteres, pueden ser de cualquier tipo y no necesitan ser del mismo tipo cada elemento.\n",
    "\n",
    "Las tuplas se escriben definiento elementos separados por comas dentro de un paréntesis."
   ]
  },
  {
   "cell_type": "code",
   "execution_count": 1,
   "id": "9b50c0ef",
   "metadata": {},
   "outputs": [],
   "source": [
    "Tupla = (\"conejo\", 3, 2.566, True)"
   ]
  },
  {
   "cell_type": "code",
   "execution_count": 2,
   "id": "7655a158",
   "metadata": {},
   "outputs": [
    {
     "data": {
      "text/plain": [
       "3"
      ]
     },
     "execution_count": 2,
     "metadata": {},
     "output_type": "execute_result"
    }
   ],
   "source": [
    "Tupla[1]"
   ]
  },
  {
   "cell_type": "code",
   "execution_count": 3,
   "id": "8eb5e5f1",
   "metadata": {},
   "outputs": [
    {
     "data": {
      "text/plain": [
       "'conejo'"
      ]
     },
     "execution_count": 3,
     "metadata": {},
     "output_type": "execute_result"
    }
   ],
   "source": [
    "Tupla[0]"
   ]
  },
  {
   "cell_type": "code",
   "execution_count": 5,
   "id": "db489be1",
   "metadata": {},
   "outputs": [
    {
     "data": {
      "text/plain": [
       "(3, 2.566)"
      ]
     },
     "execution_count": 5,
     "metadata": {},
     "output_type": "execute_result"
    }
   ],
   "source": [
    "Tupla[1:3]"
   ]
  },
  {
   "cell_type": "markdown",
   "id": "0c0f9376",
   "metadata": {},
   "source": [
    "Las tuplas pueden contener tuplas"
   ]
  },
  {
   "cell_type": "code",
   "execution_count": 7,
   "id": "cd3ea919",
   "metadata": {},
   "outputs": [
    {
     "name": "stdout",
     "output_type": "stream",
     "text": [
      "(('hoy', 2, 4), (0, 1, 2), 7, 8)\n"
     ]
    }
   ],
   "source": [
    "Tupla1 = (\"hoy\", 2, 4)\n",
    "Tupla2 = (0, 1, 2)\n",
    "\n",
    "Tupla3 = (Tupla1, Tupla2, 7, 8)\n",
    "print(Tupla3)"
   ]
  },
  {
   "cell_type": "code",
   "execution_count": 8,
   "id": "8283886a",
   "metadata": {},
   "outputs": [
    {
     "data": {
      "text/plain": [
       "'hoy'"
      ]
     },
     "execution_count": 8,
     "metadata": {},
     "output_type": "execute_result"
    }
   ],
   "source": [
    "Tupla3[0][0]"
   ]
  },
  {
   "cell_type": "markdown",
   "id": "e8940f9f",
   "metadata": {},
   "source": [
    "Podemos observar que cada elemento esta indexado y podemos ingresar a el de la misma forma que las posiciones de las letras en una cadena.\n",
    "\n",
    "Las *listas* son como las *tuplas*, una lista es una secuencia ordenada de valores donde cada valor es identificado con un índice. La sintaxis para expresar listas es usando elementos separados por comas entre corchetes."
   ]
  },
  {
   "cell_type": "code",
   "execution_count": 9,
   "id": "beb76bc8",
   "metadata": {},
   "outputs": [],
   "source": [
    "Lista = [\"celular\", 2, \"amor\"]"
   ]
  },
  {
   "cell_type": "markdown",
   "id": "dc5edaa1",
   "metadata": {},
   "source": [
    "Al ser una secuencia, es usual encontrar la combinación con la iteración `for`"
   ]
  },
  {
   "cell_type": "code",
   "execution_count": 10,
   "id": "e5a7889b",
   "metadata": {},
   "outputs": [
    {
     "name": "stdout",
     "output_type": "stream",
     "text": [
      "celular\n",
      "2\n",
      "amor\n"
     ]
    }
   ],
   "source": [
    "for i in Lista:\n",
    "    print(i)"
   ]
  },
  {
   "cell_type": "code",
   "execution_count": 13,
   "id": "ace132e5",
   "metadata": {},
   "outputs": [
    {
     "name": "stdout",
     "output_type": "stream",
     "text": [
      "0\n",
      "1\n",
      "2\n"
     ]
    }
   ],
   "source": [
    "for i in range(len(Lista)):\n",
    "    print(i)"
   ]
  },
  {
   "cell_type": "code",
   "execution_count": 14,
   "id": "044d6517",
   "metadata": {},
   "outputs": [
    {
     "data": {
      "text/plain": [
       "3"
      ]
     },
     "execution_count": 14,
     "metadata": {},
     "output_type": "execute_result"
    }
   ],
   "source": [
    "len(Lista)"
   ]
  },
  {
   "cell_type": "code",
   "execution_count": 16,
   "id": "05db7587",
   "metadata": {},
   "outputs": [
    {
     "data": {
      "text/plain": [
       "range(0, 3)"
      ]
     },
     "execution_count": 16,
     "metadata": {},
     "output_type": "execute_result"
    }
   ],
   "source": [
    "range(3)"
   ]
  },
  {
   "cell_type": "code",
   "execution_count": 17,
   "id": "6ee7f7ec",
   "metadata": {},
   "outputs": [
    {
     "name": "stdout",
     "output_type": "stream",
     "text": [
      "celular\n",
      "2\n",
      "amor\n"
     ]
    }
   ],
   "source": [
    "for i in range(len(Lista)):\n",
    "    print(Lista[i])"
   ]
  },
  {
   "cell_type": "markdown",
   "id": "123e0c32",
   "metadata": {},
   "source": [
    "Ocasionalmente, el hecho de que los corchetes son usados para listas, indexacion dentro de listas y separar listas puede conducir a confusiones visuales."
   ]
  },
  {
   "cell_type": "code",
   "execution_count": 18,
   "id": "008bfce4",
   "metadata": {},
   "outputs": [
    {
     "data": {
      "text/plain": [
       "3"
      ]
     },
     "execution_count": 18,
     "metadata": {},
     "output_type": "execute_result"
    }
   ],
   "source": [
    "[1, 2, 3, 4, 5][1:3][1]"
   ]
  },
  {
   "cell_type": "markdown",
   "id": "c2195f56",
   "metadata": {},
   "source": [
    "En el ejemplo interior podemos observar los 3 usos: el primer corchete es una lista, el segundo es una partición de la primer lista y el tercero es la posición del elemento de la partición realizada.\n",
    "\n",
    "Las listas difieren de las tuplas en un aspecto importante: las listas son modificables.\n",
    "\n",
    "A continuación se muestran algunos métodos asociados con las modificaciones en las listas.\n",
    "\n",
    "![metodos_listas](i3.01.png)"
   ]
  },
  {
   "cell_type": "code",
   "execution_count": 19,
   "id": "b5c76820",
   "metadata": {},
   "outputs": [
    {
     "name": "stdout",
     "output_type": "stream",
     "text": [
      "['celular', 2, 'amor', 'nuevo']\n"
     ]
    }
   ],
   "source": [
    "#Veamos ejemplos\n",
    "Lista.append(\"nuevo\")\n",
    "\n",
    "print(Lista)"
   ]
  },
  {
   "cell_type": "code",
   "execution_count": 20,
   "id": "cc74efae",
   "metadata": {},
   "outputs": [
    {
     "data": {
      "text/plain": [
       "2"
      ]
     },
     "execution_count": 20,
     "metadata": {},
     "output_type": "execute_result"
    }
   ],
   "source": [
    "Lista.index(\"amor\")"
   ]
  },
  {
   "cell_type": "markdown",
   "id": "fa2e5ed9",
   "metadata": {},
   "source": [
    "Hasta este momento se ha descrito tres diferentes tipos de secuencias: *str, tuplas y listas*. Ellas son similares en que estos objetos pueden ser operados de la siguiente forma.\n",
    "\n",
    "![operaciones_secuencias](i3.02.png)\n",
    "\n",
    "Y a continuación se presenta una tabla de comparación entre ellas\n",
    "\n",
    "![secuencias](i3.03.png)"
   ]
  },
  {
   "cell_type": "markdown",
   "id": "57769713",
   "metadata": {},
   "source": [
    "Las matrices son disposiciones bidimensionales de valores. En notación matemática, una matriz se denota encerrando entre paréntesis valores que se disponen en filas y columnas:\n",
    "\n",
    "\\begin{equation}\n",
    "\\begin{pmatrix}\n",
    "2 & 5 & 0\\\\\n",
    "7 & 3 & 8\\\\\n",
    "3 & 0 & 1\n",
    "\\end{pmatrix}\n",
    "\\end{equation}\n",
    "\n",
    "Las listas permiten representar series de datos en una sola dimensión. Con una lista de numeros no se puede representar directamente una matriz, pero si con una lista de listas."
   ]
  },
  {
   "cell_type": "code",
   "execution_count": 22,
   "id": "1134c354",
   "metadata": {},
   "outputs": [
    {
     "name": "stdout",
     "output_type": "stream",
     "text": [
      "[[2, 5, 0], [7, 3, 8], [3, 0, 1]]\n"
     ]
    }
   ],
   "source": [
    "#Veamos ejemplos\n",
    "M = [[2, 5, 0], [7, 3, 8], [3, 0, 1]]\n",
    "print(M)"
   ]
  },
  {
   "cell_type": "markdown",
   "id": "75a49514",
   "metadata": {},
   "source": [
    "En la notación matemática el elemento que ocupa la fila $i$-ésima y la columna $j$-ésima de una matriz $M$ se representa con $M_{i,j}$. Por ejemplo, el elemento de una matriz que ocupa la celda de la fila 1 y la columna 2 se denota con $M_{1,2}$. Pero si deseamos acceder a ese elemento en la matriz Python M, hemos de tener en cuenta que Python siempre cuenta desde cero, así que la fila tendrá índice 0 y la columna tendrá índice 1"
   ]
  },
  {
   "cell_type": "code",
   "execution_count": 23,
   "id": "533bc19b",
   "metadata": {},
   "outputs": [
    {
     "data": {
      "text/plain": [
       "5"
      ]
     },
     "execution_count": 23,
     "metadata": {},
     "output_type": "execute_result"
    }
   ],
   "source": [
    "M[0][1]"
   ]
  },
  {
   "cell_type": "code",
   "execution_count": 27,
   "id": "af739f21",
   "metadata": {},
   "outputs": [
    {
     "name": "stdout",
     "output_type": "stream",
     "text": [
      "--\n",
      "[1, 0, 0]\n",
      "[0, 1, 0]\n",
      "[0, 0, 1]\n",
      "--\n"
     ]
    }
   ],
   "source": [
    "M = [ [1, 0, 0], [0, 1, 0], [0, 0, 1] ]\n",
    "\n",
    "print (\"--\")\n",
    "for i in range(0, 3):\n",
    "    print (M[i])\n",
    "print (\"--\")\n"
   ]
  },
  {
   "cell_type": "markdown",
   "id": "9c227ff6",
   "metadata": {},
   "source": [
    "## Diccionarios\n",
    "\n",
    "Son objetos del tipo *dict* y son como las listas, excepto porque los *indices* no tienen que ser enteros, pueden ser valores de cualquier tipo *inmutable*. No necesariamente estan ordenados y los llamaremos *llaves* o *keys* en lugar de índices.\n",
    "\n",
    "Es decir, un diccionario es un conjunto de pares de llaves y valores.\n",
    "\n",
    "La sintaxis de un diccionario cubre sus elementos con *llaves o corchetes curvos* y cada elemento es escrito como *llave* seguido de dos puntos y seguido de un valor."
   ]
  },
  {
   "cell_type": "code",
   "execution_count": 32,
   "id": "047b4c50",
   "metadata": {},
   "outputs": [],
   "source": [
    "#Veamos ejemplos\n",
    "Numero_de_mes = {\"Enero\":1, \"Febrero\": 2, \"Marzo\":3, \"Abril\":4, \"Mayo\": 5, \"Junio\":6,\n",
    "                 1: \"Enero_\", 2:\"Febrero_\", 3:\"Marzo_\", 4:\"Abril_\", 5:\"Mayo_\", 6:\"Junio_\"}"
   ]
  },
  {
   "cell_type": "code",
   "execution_count": 30,
   "id": "2ac658a4",
   "metadata": {},
   "outputs": [
    {
     "name": "stdout",
     "output_type": "stream",
     "text": [
      "3\n"
     ]
    }
   ],
   "source": [
    "print(Numero_de_mes[\"Marzo\"])"
   ]
  },
  {
   "cell_type": "code",
   "execution_count": 33,
   "id": "9815e409",
   "metadata": {},
   "outputs": [
    {
     "name": "stdout",
     "output_type": "stream",
     "text": [
      "Marzo_\n"
     ]
    }
   ],
   "source": [
    "print(Numero_de_mes[3])"
   ]
  },
  {
   "cell_type": "code",
   "execution_count": 34,
   "id": "2efbb32e",
   "metadata": {},
   "outputs": [
    {
     "data": {
      "text/plain": [
       "dict_keys(['Enero', 'Febrero', 'Marzo', 'Abril', 'Mayo', 'Junio', 1, 2, 3, 4, 5, 6])"
      ]
     },
     "execution_count": 34,
     "metadata": {},
     "output_type": "execute_result"
    }
   ],
   "source": [
    "#conozcamos el método keys\n",
    "Numero_de_mes.keys()"
   ]
  },
  {
   "cell_type": "code",
   "execution_count": 35,
   "id": "dcf31114",
   "metadata": {},
   "outputs": [
    {
     "data": {
      "text/plain": [
       "dict_values([1, 2, 3, 4, 5, 6, 'Enero_', 'Febrero_', 'Marzo_', 'Abril_', 'Mayo_', 'Junio_'])"
      ]
     },
     "execution_count": 35,
     "metadata": {},
     "output_type": "execute_result"
    }
   ],
   "source": [
    "#conozcamos el método values\n",
    "Numero_de_mes.values()"
   ]
  },
  {
   "cell_type": "markdown",
   "id": "8becd5b4",
   "metadata": {},
   "source": [
    "Existen una serie de métodos que permiten usar los diccionarios:\n",
    "\n",
    "![diccionarios](i3.04.png)"
   ]
  },
  {
   "cell_type": "code",
   "execution_count": 36,
   "id": "9c2c818e",
   "metadata": {},
   "outputs": [
    {
     "data": {
      "text/plain": [
       "[27, 1]"
      ]
     },
     "execution_count": 36,
     "metadata": {},
     "output_type": "execute_result"
    }
   ],
   "source": [
    "Pacientes = {\"Jesus\":[27, 1], \"Armando\":[56, 2], \"Carmen\":[18, 0]}\n",
    "Pacientes[\"Jesus\"]"
   ]
  },
  {
   "cell_type": "code",
   "execution_count": 37,
   "id": "512a351b",
   "metadata": {},
   "outputs": [
    {
     "name": "stdout",
     "output_type": "stream",
     "text": [
      "Jesus\n",
      "Armando\n",
      "Carmen\n"
     ]
    }
   ],
   "source": [
    "for k in Pacientes:\n",
    "    print(k)"
   ]
  },
  {
   "cell_type": "code",
   "execution_count": 39,
   "id": "bede7f78",
   "metadata": {},
   "outputs": [
    {
     "name": "stdout",
     "output_type": "stream",
     "text": [
      "[27, 1]\n",
      "[56, 2]\n",
      "[18, 0]\n"
     ]
    }
   ],
   "source": [
    "for k in Pacientes:\n",
    "    print(Pacientes[k])"
   ]
  },
  {
   "cell_type": "code",
   "execution_count": 41,
   "id": "1e43a9cc",
   "metadata": {},
   "outputs": [
    {
     "name": "stdout",
     "output_type": "stream",
     "text": [
      "El paciente se llama: Jesus , tiene 27 años y 1 enfermedades.\n",
      "El paciente se llama: Armando , tiene 56 años y 2 enfermedades.\n",
      "El paciente se llama: Carmen , tiene 18 años y 0 enfermedades.\n"
     ]
    }
   ],
   "source": [
    "for k in Pacientes:\n",
    "    print(\"El paciente se llama: \" + str(k) + \" , tiene \" + str(Pacientes[k][0]) + \" años y \" + str(Pacientes[k][1]) + \" enfermedades.\")"
   ]
  },
  {
   "cell_type": "markdown",
   "id": "8cbe027f",
   "metadata": {},
   "source": [
    "Ejercicio 3\n",
    "\n",
    "Construye un diccionario con los nombres de 5 personas asociados a una lista con sus valores de peso y altura y obten un diccionario con sus nombres asociados a su IMC usando operadores de listas y diccionarios."
   ]
  },
  {
   "cell_type": "markdown",
   "id": "45b01a49",
   "metadata": {},
   "source": [
    "## Referencias\n",
    "\n",
    "Guttag J. (2013). Introduction to Computation and Programming Using Python (Spring 2013 Edition). MIT Press.\n",
    "\n",
    "Marzal A. (2003). Introducción a la programación con Python. Universitat Jaume I"
   ]
  },
  {
   "cell_type": "code",
   "execution_count": null,
   "id": "63eda990",
   "metadata": {},
   "outputs": [],
   "source": []
  }
 ],
 "metadata": {
  "kernelspec": {
   "display_name": "Python 3",
   "language": "python",
   "name": "python3"
  },
  "language_info": {
   "codemirror_mode": {
    "name": "ipython",
    "version": 3
   },
   "file_extension": ".py",
   "mimetype": "text/x-python",
   "name": "python",
   "nbconvert_exporter": "python",
   "pygments_lexer": "ipython3",
   "version": "3.8.8"
  }
 },
 "nbformat": 4,
 "nbformat_minor": 5
}
